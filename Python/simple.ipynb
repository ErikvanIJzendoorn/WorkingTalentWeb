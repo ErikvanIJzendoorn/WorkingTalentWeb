{
 "cells": [
  {
   "cell_type": "code",
   "execution_count": 6,
   "id": "a313522c",
   "metadata": {},
   "outputs": [
    {
     "name": "stdout",
     "output_type": "stream",
     "text": [
      "Hello world!\n"
     ]
    }
   ],
   "source": [
    "# Comment\n",
    "\n",
    "print(\"Hello world!\")"
   ]
  },
  {
   "cell_type": "code",
   "execution_count": 7,
   "id": "f88cd948",
   "metadata": {},
   "outputs": [],
   "source": [
    "def func1():\n",
    "    print(\"Test\")"
   ]
  },
  {
   "cell_type": "code",
   "execution_count": 8,
   "id": "2a9689db",
   "metadata": {},
   "outputs": [],
   "source": [
    "def func2(arg1):\n",
    "    print(\"Arg = \" + arg1)"
   ]
  },
  {
   "cell_type": "code",
   "execution_count": 9,
   "id": "12961cc4",
   "metadata": {},
   "outputs": [
    {
     "name": "stdout",
     "output_type": "stream",
     "text": [
      "Test\n",
      "Arg = banaan\n"
     ]
    }
   ],
   "source": [
    "func1()\n",
    "func2(\"banaan\")"
   ]
  }
 ],
 "metadata": {
  "kernelspec": {
   "display_name": "base",
   "language": "python",
   "name": "python3"
  },
  "language_info": {
   "codemirror_mode": {
    "name": "ipython",
    "version": 3
   },
   "file_extension": ".py",
   "mimetype": "text/x-python",
   "name": "python",
   "nbconvert_exporter": "python",
   "pygments_lexer": "ipython3",
   "version": "3.9.7"
  }
 },
 "nbformat": 4,
 "nbformat_minor": 5
}
